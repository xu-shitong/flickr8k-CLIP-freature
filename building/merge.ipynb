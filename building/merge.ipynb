{
 "cells": [
  {
   "cell_type": "code",
   "execution_count": 8,
   "metadata": {},
   "outputs": [],
   "source": [
    "import torch\n",
    "import tqdm\n",
    "import os\n",
    "import re"
   ]
  },
  {
   "cell_type": "code",
   "execution_count": 35,
   "metadata": {},
   "outputs": [],
   "source": [
    "def merge(path):\n",
    "  text_files = os.listdir(path)\n",
    "  collect = dict()\n",
    "  for text_file in text_files:\n",
    "    r = re.compile(\"_|(\\.)\")\n",
    "    start = int(r.split(text_file)[4])\n",
    "    if start // 1000 in collect:\n",
    "      collect[start // 1000] = torch.vstack([collect[start // 1000], torch.load(f\"{path}/{text_file}\")])\n",
    "    else:\n",
    "      collect[start // 1000] = torch.load(f\"{path}/{text_file}\")\n",
    "  for k in collect:\n",
    "    torch.save(collect[k], f\"{path}/{path}_{k}.pickle\")"
   ]
  },
  {
   "cell_type": "code",
   "execution_count": 38,
   "metadata": {},
   "outputs": [],
   "source": [
    "merge(\"./text_all\")\n",
    "merge(\"./image_all\")"
   ]
  },
  {
   "cell_type": "code",
   "execution_count": 42,
   "metadata": {},
   "outputs": [],
   "source": [
    "image_all = torch.tensor([]).reshape((0, 512))\n",
    "text_all = torch.tensor([]).reshape((0, 512))\n",
    "\n",
    "for i in range(41):\n",
    "  image_all = torch.vstack([image_all, torch.load(f\"image_all_{i}.pickle\")])  \n",
    "  text_all = torch.vstack([text_all, torch.load(f\"text_all_{i}.pickle\")])"
   ]
  },
  {
   "cell_type": "code",
   "execution_count": 43,
   "metadata": {},
   "outputs": [
    {
     "data": {
      "text/plain": [
       "(torch.Size([40455, 512]), torch.Size([40455, 512]))"
      ]
     },
     "execution_count": 43,
     "metadata": {},
     "output_type": "execute_result"
    }
   ],
   "source": [
    "image_all.shape, text_all.shape"
   ]
  },
  {
   "cell_type": "code",
   "execution_count": 44,
   "metadata": {},
   "outputs": [],
   "source": [
    "torch.save(image_all, \"image_all_final.pickle\")\n",
    "torch.save(text_all, \"text_all_final.pickle\")"
   ]
  },
  {
   "cell_type": "code",
   "execution_count": null,
   "metadata": {},
   "outputs": [],
   "source": []
  }
 ],
 "metadata": {
  "kernelspec": {
   "display_name": "Python 3.9.12 ('mlenv')",
   "language": "python",
   "name": "python3"
  },
  "language_info": {
   "codemirror_mode": {
    "name": "ipython",
    "version": 3
   },
   "file_extension": ".py",
   "mimetype": "text/x-python",
   "name": "python",
   "nbconvert_exporter": "python",
   "pygments_lexer": "ipython3",
   "version": "3.9.12"
  },
  "orig_nbformat": 4,
  "vscode": {
   "interpreter": {
    "hash": "1f93c46dd61ce6925df2c3958a0a88f8277015b6331ee5021fc1dcace5372220"
   }
  }
 },
 "nbformat": 4,
 "nbformat_minor": 2
}
